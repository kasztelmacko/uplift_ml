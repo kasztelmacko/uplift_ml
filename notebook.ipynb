{
 "cells": [
  {
   "cell_type": "code",
   "execution_count": 1,
   "metadata": {},
   "outputs": [],
   "source": [
    "import polars as pl\n",
    "import plotly.express as px"
   ]
  },
  {
   "cell_type": "code",
   "execution_count": 2,
   "metadata": {},
   "outputs": [],
   "source": [
    "schema = {\n",
    "    \"id\": pl.UInt32,\n",
    "    \"age\": pl.UInt32,\n",
    "    \"job\": pl.String,\n",
    "    \"marital\": pl.String,\n",
    "    \"education\": pl.String,\n",
    "    \"default\": pl.String,\n",
    "    \"housing\": pl.String,\n",
    "    \"loan\": pl.String,\n",
    "    \"contact\": pl.String,\n",
    "    \"month\": pl.String,\n",
    "    \"day_of_week\": pl.String,\n",
    "    \"duration\": pl.UInt32,\n",
    "    \"campaign\": pl.UInt32,\n",
    "    \"pdays\": pl.UInt32,\n",
    "    \"previous\": pl.UInt32,\n",
    "    \"poutcome\": pl.String,\n",
    "    \"emp.var.rate\": pl.Float32,\n",
    "    \"cons.price.idx\": pl.Float32,\n",
    "    \"cons.conf.idx\": pl.Float32,\n",
    "    \"euribor3m\": pl.Float32,\n",
    "    \"nr.employed\": pl.Float32, # start with float, cause one value is float\n",
    "    \"y\": pl.String,\n",
    "    \"test_control_flag\": pl.String\n",
    "    \n",
    "}"
   ]
  },
  {
   "cell_type": "code",
   "execution_count": 3,
   "metadata": {},
   "outputs": [],
   "source": [
    "data = pl.read_csv(\"data/bank_data_prediction_task_2024.csv\", schema=schema, null_values=[\"NA\"])"
   ]
  },
  {
   "cell_type": "markdown",
   "metadata": {},
   "source": [
    "# change datatypes\n"
   ]
  },
  {
   "cell_type": "code",
   "execution_count": 4,
   "metadata": {},
   "outputs": [],
   "source": [
    "#change month to int\n",
    "data = data.with_columns(pl.col(\"month\")\n",
    "            .replace({\n",
    "                \"jan\": 1,\n",
    "                \"feb\": 2,\n",
    "                \"mar\": 3,\n",
    "                \"apr\": 4,\n",
    "                \"may\": 5,\n",
    "                \"jun\": 6,\n",
    "                \"jul\": 7,\n",
    "                \"aug\": 8,\n",
    "                \"sep\": 9,\n",
    "                \"oct\": 10,\n",
    "                \"nov\": 11,\n",
    "                \"dec\": 12\n",
    "            }).cast(pl.UInt32)\n",
    "        )"
   ]
  },
  {
   "cell_type": "code",
   "execution_count": 5,
   "metadata": {},
   "outputs": [],
   "source": [
    "#change day of week to int\n",
    "data = data.with_columns(pl.col(\"day_of_week\")\n",
    "            .replace({\n",
    "                \"mon\": 1,\n",
    "                \"tue\": 2,\n",
    "                \"wed\": 3,\n",
    "                \"thu\": 4,\n",
    "                \"fri\": 5\n",
    "            }).cast(pl.UInt32)\n",
    "        )"
   ]
  },
  {
   "cell_type": "code",
   "execution_count": 6,
   "metadata": {},
   "outputs": [],
   "source": [
    "#turn nr.employed to int\n",
    "data = data.with_columns(pl.col(\"nr.employed\").cast(pl.Int32))"
   ]
  },
  {
   "cell_type": "code",
   "execution_count": 7,
   "metadata": {},
   "outputs": [],
   "source": [
    "#turn y to 0 and 1\n",
    "data = data.with_columns(pl.col(\"y\").replace({'no': 0, 'yes': 1}))"
   ]
  },
  {
   "cell_type": "code",
   "execution_count": 8,
   "metadata": {},
   "outputs": [
    {
     "data": {
      "text/html": [
       "<div><style>\n",
       ".dataframe > thead > tr,\n",
       ".dataframe > tbody > tr {\n",
       "  text-align: right;\n",
       "  white-space: pre-wrap;\n",
       "}\n",
       "</style>\n",
       "<small>shape: (9, 24)</small><table border=\"1\" class=\"dataframe\"><thead><tr><th>statistic</th><th>id</th><th>age</th><th>job</th><th>marital</th><th>education</th><th>default</th><th>housing</th><th>loan</th><th>contact</th><th>month</th><th>day_of_week</th><th>duration</th><th>campaign</th><th>pdays</th><th>previous</th><th>poutcome</th><th>emp.var.rate</th><th>cons.price.idx</th><th>cons.conf.idx</th><th>euribor3m</th><th>nr.employed</th><th>y</th><th>test_control_flag</th></tr><tr><td>str</td><td>f64</td><td>f64</td><td>str</td><td>str</td><td>str</td><td>str</td><td>str</td><td>str</td><td>str</td><td>f64</td><td>f64</td><td>f64</td><td>f64</td><td>f64</td><td>f64</td><td>str</td><td>f64</td><td>f64</td><td>f64</td><td>f64</td><td>f64</td><td>str</td><td>str</td></tr></thead><tbody><tr><td>&quot;count&quot;</td><td>41188.0</td><td>41188.0</td><td>&quot;41188&quot;</td><td>&quot;41188&quot;</td><td>&quot;41188&quot;</td><td>&quot;41188&quot;</td><td>&quot;41188&quot;</td><td>&quot;41188&quot;</td><td>&quot;16476&quot;</td><td>16476.0</td><td>16476.0</td><td>16476.0</td><td>16476.0</td><td>41188.0</td><td>41188.0</td><td>&quot;41188&quot;</td><td>41188.0</td><td>40938.0</td><td>41188.0</td><td>41188.0</td><td>41188.0</td><td>&quot;41188&quot;</td><td>&quot;41188&quot;</td></tr><tr><td>&quot;null_count&quot;</td><td>0.0</td><td>0.0</td><td>&quot;0&quot;</td><td>&quot;0&quot;</td><td>&quot;0&quot;</td><td>&quot;0&quot;</td><td>&quot;0&quot;</td><td>&quot;0&quot;</td><td>&quot;24712&quot;</td><td>24712.0</td><td>24712.0</td><td>24712.0</td><td>24712.0</td><td>0.0</td><td>0.0</td><td>&quot;0&quot;</td><td>0.0</td><td>250.0</td><td>0.0</td><td>0.0</td><td>0.0</td><td>&quot;0&quot;</td><td>&quot;0&quot;</td></tr><tr><td>&quot;mean&quot;</td><td>20594.5</td><td>40.02406</td><td>null</td><td>null</td><td>null</td><td>null</td><td>null</td><td>null</td><td>null</td><td>6.599539</td><td>2.984644</td><td>259.660172</td><td>2.546856</td><td>962.475454</td><td>0.172963</td><td>null</td><td>0.081886</td><td>93.575951</td><td>-40.502602</td><td>3.621291</td><td>5166.849446</td><td>null</td><td>null</td></tr><tr><td>&quot;std&quot;</td><td>11890.09578</td><td>10.42125</td><td>null</td><td>null</td><td>null</td><td>null</td><td>null</td><td>null</td><td>null</td><td>2.041805</td><td>1.409035</td><td>260.660561</td><td>2.699664</td><td>186.910907</td><td>0.494901</td><td>null</td><td>1.57096</td><td>0.57889</td><td>4.628198</td><td>1.734447</td><td>72.328375</td><td>null</td><td>null</td></tr><tr><td>&quot;min&quot;</td><td>1.0</td><td>17.0</td><td>&quot;admin.&quot;</td><td>&quot;divorced&quot;</td><td>&quot;basic.4y&quot;</td><td>&quot;no&quot;</td><td>&quot;no&quot;</td><td>&quot;no&quot;</td><td>&quot;cellular&quot;</td><td>3.0</td><td>1.0</td><td>0.0</td><td>1.0</td><td>0.0</td><td>0.0</td><td>&quot;failure&quot;</td><td>-3.4</td><td>92.200996</td><td>-50.799999</td><td>0.634</td><td>4963.0</td><td>&quot;0&quot;</td><td>&quot;campaign group&quot;</td></tr><tr><td>&quot;25%&quot;</td><td>10298.0</td><td>32.0</td><td>null</td><td>null</td><td>null</td><td>null</td><td>null</td><td>null</td><td>null</td><td>5.0</td><td>2.0</td><td>103.0</td><td>1.0</td><td>999.0</td><td>0.0</td><td>null</td><td>-1.8</td><td>93.074997</td><td>-42.700001</td><td>1.344</td><td>5099.0</td><td>null</td><td>null</td></tr><tr><td>&quot;50%&quot;</td><td>20595.0</td><td>38.0</td><td>null</td><td>null</td><td>null</td><td>null</td><td>null</td><td>null</td><td>null</td><td>6.0</td><td>3.0</td><td>180.0</td><td>2.0</td><td>999.0</td><td>0.0</td><td>null</td><td>1.1</td><td>93.749001</td><td>-41.799999</td><td>4.857</td><td>5191.0</td><td>null</td><td>null</td></tr><tr><td>&quot;75%&quot;</td><td>30891.0</td><td>47.0</td><td>null</td><td>null</td><td>null</td><td>null</td><td>null</td><td>null</td><td>null</td><td>8.0</td><td>4.0</td><td>321.0</td><td>3.0</td><td>999.0</td><td>0.0</td><td>null</td><td>1.4</td><td>93.994003</td><td>-36.400002</td><td>4.961</td><td>5228.0</td><td>null</td><td>null</td></tr><tr><td>&quot;max&quot;</td><td>41188.0</td><td>98.0</td><td>&quot;unknown&quot;</td><td>&quot;unknown&quot;</td><td>&quot;unknown&quot;</td><td>&quot;yes&quot;</td><td>&quot;yes&quot;</td><td>&quot;yes&quot;</td><td>&quot;telephone&quot;</td><td>12.0</td><td>5.0</td><td>4918.0</td><td>43.0</td><td>999.0</td><td>7.0</td><td>&quot;success&quot;</td><td>1.4</td><td>94.766998</td><td>-26.9</td><td>5.045</td><td>5228.0</td><td>&quot;1&quot;</td><td>&quot;control group&quot;</td></tr></tbody></table></div>"
      ],
      "text/plain": [
       "shape: (9, 24)\n",
       "┌────────────┬─────────────┬──────────┬─────────┬───┬───────────┬─────────────┬───────┬────────────┐\n",
       "│ statistic  ┆ id          ┆ age      ┆ job     ┆ … ┆ euribor3m ┆ nr.employed ┆ y     ┆ test_contr │\n",
       "│ ---        ┆ ---         ┆ ---      ┆ ---     ┆   ┆ ---       ┆ ---         ┆ ---   ┆ ol_flag    │\n",
       "│ str        ┆ f64         ┆ f64      ┆ str     ┆   ┆ f64       ┆ f64         ┆ str   ┆ ---        │\n",
       "│            ┆             ┆          ┆         ┆   ┆           ┆             ┆       ┆ str        │\n",
       "╞════════════╪═════════════╪══════════╪═════════╪═══╪═══════════╪═════════════╪═══════╪════════════╡\n",
       "│ count      ┆ 41188.0     ┆ 41188.0  ┆ 41188   ┆ … ┆ 41188.0   ┆ 41188.0     ┆ 41188 ┆ 41188      │\n",
       "│ null_count ┆ 0.0         ┆ 0.0      ┆ 0       ┆ … ┆ 0.0       ┆ 0.0         ┆ 0     ┆ 0          │\n",
       "│ mean       ┆ 20594.5     ┆ 40.02406 ┆ null    ┆ … ┆ 3.621291  ┆ 5166.849446 ┆ null  ┆ null       │\n",
       "│ std        ┆ 11890.09578 ┆ 10.42125 ┆ null    ┆ … ┆ 1.734447  ┆ 72.328375   ┆ null  ┆ null       │\n",
       "│ min        ┆ 1.0         ┆ 17.0     ┆ admin.  ┆ … ┆ 0.634     ┆ 4963.0      ┆ 0     ┆ campaign   │\n",
       "│            ┆             ┆          ┆         ┆   ┆           ┆             ┆       ┆ group      │\n",
       "│ 25%        ┆ 10298.0     ┆ 32.0     ┆ null    ┆ … ┆ 1.344     ┆ 5099.0      ┆ null  ┆ null       │\n",
       "│ 50%        ┆ 20595.0     ┆ 38.0     ┆ null    ┆ … ┆ 4.857     ┆ 5191.0      ┆ null  ┆ null       │\n",
       "│ 75%        ┆ 30891.0     ┆ 47.0     ┆ null    ┆ … ┆ 4.961     ┆ 5228.0      ┆ null  ┆ null       │\n",
       "│ max        ┆ 41188.0     ┆ 98.0     ┆ unknown ┆ … ┆ 5.045     ┆ 5228.0      ┆ 1     ┆ control    │\n",
       "│            ┆             ┆          ┆         ┆   ┆           ┆             ┆       ┆ group      │\n",
       "└────────────┴─────────────┴──────────┴─────────┴───┴───────────┴─────────────┴───────┴────────────┘"
      ]
     },
     "execution_count": 8,
     "metadata": {},
     "output_type": "execute_result"
    }
   ],
   "source": [
    "data.describe()"
   ]
  },
  {
   "cell_type": "markdown",
   "metadata": {},
   "source": [
    "# Missing values"
   ]
  },
  {
   "cell_type": "markdown",
   "metadata": {},
   "source": [
    "we have two places of missing values:\n",
    "1) for control group all of contact, month, day_of_week, campaign, duration are empty\n",
    "2) for consumer price index there are 250 missing values. "
   ]
  },
  {
   "cell_type": "code",
   "execution_count": 9,
   "metadata": {},
   "outputs": [],
   "source": [
    "#we can see that the observations are rather sorted, hence we can fill the null values with forward fill\n",
    "data = data.with_columns(pl.col(\"cons.price.idx\").forward_fill())"
   ]
  },
  {
   "cell_type": "markdown",
   "metadata": {},
   "source": [
    "## Split control and campaign groups, to better deal with missing"
   ]
  },
  {
   "cell_type": "code",
   "execution_count": 12,
   "metadata": {},
   "outputs": [],
   "source": [
    "data_control = data.filter(pl.col(\"test_control_flag\") == \"control group\").drop(\"test_control_flag\")\n",
    "data_campaign = data.filter(pl.col(\"test_control_flag\") == \"campaign group\").drop(\"test_control_flag\")   "
   ]
  },
  {
   "cell_type": "code",
   "execution_count": 13,
   "metadata": {},
   "outputs": [],
   "source": [
    "data_control = data_control.drop([\"month\", \"day_of_week\", \"duration\", \"contact\", \"campaign\" ])"
   ]
  }
 ],
 "metadata": {
  "kernelspec": {
   "display_name": "Python 3",
   "language": "python",
   "name": "python3"
  },
  "language_info": {
   "codemirror_mode": {
    "name": "ipython",
    "version": 3
   },
   "file_extension": ".py",
   "mimetype": "text/x-python",
   "name": "python",
   "nbconvert_exporter": "python",
   "pygments_lexer": "ipython3",
   "version": "3.11.5"
  }
 },
 "nbformat": 4,
 "nbformat_minor": 2
}
